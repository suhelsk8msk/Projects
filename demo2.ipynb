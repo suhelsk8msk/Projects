{
 "cells": [
  {
   "cell_type": "code",
   "execution_count": 1,
   "id": "4baf8f0f-fcc8-40d0-94e6-99eead195a13",
   "metadata": {},
   "outputs": [],
   "source": [
    "# Operators"
   ]
  },
  {
   "cell_type": "code",
   "execution_count": 2,
   "id": "76a9b7cd-d826-4e0b-8690-29426c548033",
   "metadata": {},
   "outputs": [
    {
     "data": {
      "text/plain": [
       "3"
      ]
     },
     "execution_count": 2,
     "metadata": {},
     "output_type": "execute_result"
    }
   ],
   "source": [
    "1+2"
   ]
  },
  {
   "cell_type": "code",
   "execution_count": 3,
   "id": "9da38ef5-cce2-4bee-991c-75df9ad31d56",
   "metadata": {},
   "outputs": [
    {
     "data": {
      "text/plain": [
       "-1"
      ]
     },
     "execution_count": 3,
     "metadata": {},
     "output_type": "execute_result"
    }
   ],
   "source": [
    "1-2"
   ]
  },
  {
   "cell_type": "code",
   "execution_count": 4,
   "id": "5b5b99e3-17c0-4055-9be0-3a0369e6c373",
   "metadata": {},
   "outputs": [
    {
     "data": {
      "text/plain": [
       "2"
      ]
     },
     "execution_count": 4,
     "metadata": {},
     "output_type": "execute_result"
    }
   ],
   "source": [
    "1*2"
   ]
  },
  {
   "cell_type": "code",
   "execution_count": 5,
   "id": "1982d1ba-bdb0-4adf-9b10-79f7cb3ebc02",
   "metadata": {},
   "outputs": [
    {
     "data": {
      "text/plain": [
       "0.5"
      ]
     },
     "execution_count": 5,
     "metadata": {},
     "output_type": "execute_result"
    }
   ],
   "source": [
    "1/2"
   ]
  },
  {
   "cell_type": "code",
   "execution_count": 6,
   "id": "cd103ba9-1ab3-4859-853a-270fb27f8fe9",
   "metadata": {},
   "outputs": [
    {
     "data": {
      "text/plain": [
       "1"
      ]
     },
     "execution_count": 6,
     "metadata": {},
     "output_type": "execute_result"
    }
   ],
   "source": [
    "1%4"
   ]
  },
  {
   "cell_type": "code",
   "execution_count": 7,
   "id": "ece98c1d-50d7-492a-b578-0dd496a75f98",
   "metadata": {},
   "outputs": [],
   "source": [
    "#Modulus (%) Operator"
   ]
  },
  {
   "cell_type": "code",
   "execution_count": 8,
   "id": "e70d0b89-230e-421d-a453-0cd502fa338e",
   "metadata": {},
   "outputs": [
    {
     "data": {
      "text/plain": [
       "1"
      ]
     },
     "execution_count": 8,
     "metadata": {},
     "output_type": "execute_result"
    }
   ],
   "source": [
    "5%4"
   ]
  },
  {
   "cell_type": "code",
   "execution_count": 9,
   "id": "8bb7793b-c250-46ef-9f7d-826726b5db3f",
   "metadata": {},
   "outputs": [],
   "source": [
    "# It gives remainder after division"
   ]
  },
  {
   "cell_type": "code",
   "execution_count": 10,
   "id": "0bbe0084-06eb-4746-baf9-1722eeccf7a1",
   "metadata": {},
   "outputs": [
    {
     "data": {
      "text/plain": [
       "1"
      ]
     },
     "execution_count": 10,
     "metadata": {},
     "output_type": "execute_result"
    }
   ],
   "source": [
    "5//4"
   ]
  },
  {
   "cell_type": "code",
   "execution_count": 11,
   "id": "83b4c177-3172-450b-a210-0be727baefd3",
   "metadata": {},
   "outputs": [
    {
     "data": {
      "text/plain": [
       "8"
      ]
     },
     "execution_count": 11,
     "metadata": {},
     "output_type": "execute_result"
    }
   ],
   "source": [
    "2**3"
   ]
  },
  {
   "cell_type": "code",
   "execution_count": 12,
   "id": "a10299ee-87d5-458f-824a-f8f12446e447",
   "metadata": {},
   "outputs": [],
   "source": [
    "# ** Exponent operator"
   ]
  },
  {
   "cell_type": "code",
   "execution_count": 13,
   "id": "2af34e7c-30b5-43d2-bcaa-8a54c82fbd89",
   "metadata": {},
   "outputs": [],
   "source": [
    "# double slash // division floor"
   ]
  },
  {
   "cell_type": "code",
   "execution_count": 14,
   "id": "72b04e5e-c454-46dd-ad5a-ae034ed6ed85",
   "metadata": {},
   "outputs": [],
   "source": [
    "#comparision operator"
   ]
  },
  {
   "cell_type": "code",
   "execution_count": 15,
   "id": "ce883d1a-1fe2-434c-a4fb-7e2baeb0d97b",
   "metadata": {},
   "outputs": [
    {
     "data": {
      "text/plain": [
       "False"
      ]
     },
     "execution_count": 15,
     "metadata": {},
     "output_type": "execute_result"
    }
   ],
   "source": [
    "1>2"
   ]
  },
  {
   "cell_type": "code",
   "execution_count": 16,
   "id": "5fe6229f-5463-42e0-a305-6046fb71d965",
   "metadata": {},
   "outputs": [
    {
     "data": {
      "text/plain": [
       "True"
      ]
     },
     "execution_count": 16,
     "metadata": {},
     "output_type": "execute_result"
    }
   ],
   "source": [
    "2>1"
   ]
  },
  {
   "cell_type": "code",
   "execution_count": 17,
   "id": "de208138-b8c1-4646-995b-6d5d2086cd88",
   "metadata": {},
   "outputs": [
    {
     "data": {
      "text/plain": [
       "False"
      ]
     },
     "execution_count": 17,
     "metadata": {},
     "output_type": "execute_result"
    }
   ],
   "source": [
    "1==2"
   ]
  },
  {
   "cell_type": "code",
   "execution_count": 18,
   "id": "8b6dfeaf-edc1-4987-9e35-e05b76d7ebfd",
   "metadata": {},
   "outputs": [
    {
     "data": {
      "text/plain": [
       "True"
      ]
     },
     "execution_count": 18,
     "metadata": {},
     "output_type": "execute_result"
    }
   ],
   "source": [
    "1==1"
   ]
  },
  {
   "cell_type": "code",
   "execution_count": 19,
   "id": "82bcdec5-69ac-4215-93e3-b4ae3f935e91",
   "metadata": {},
   "outputs": [
    {
     "data": {
      "text/plain": [
       "True"
      ]
     },
     "execution_count": 19,
     "metadata": {},
     "output_type": "execute_result"
    }
   ],
   "source": [
    "1!=2"
   ]
  },
  {
   "cell_type": "code",
   "execution_count": 20,
   "id": "636ff763-4010-4d36-974d-88ef5a0ce285",
   "metadata": {},
   "outputs": [],
   "source": [
    "# != Not equals to"
   ]
  },
  {
   "cell_type": "code",
   "execution_count": 21,
   "id": "adc2be74-3dd6-40ad-9461-6d83ebdda9f5",
   "metadata": {},
   "outputs": [
    {
     "data": {
      "text/plain": [
       "False"
      ]
     },
     "execution_count": 21,
     "metadata": {},
     "output_type": "execute_result"
    }
   ],
   "source": [
    "1!=1"
   ]
  },
  {
   "cell_type": "code",
   "execution_count": null,
   "id": "7b69b4fd-9c0d-4f62-8f31-a8f4a7f401ff",
   "metadata": {},
   "outputs": [
    {
     "data": {
      "text/plain": [
       "True"
      ]
     },
     "execution_count": 22,
     "metadata": {},
     "output_type": "execute_result"
    }
   ],
   "source": [
    "2>=1"
   ]
  },
  {
   "cell_type": "code",
   "execution_count": 23,
   "id": "22df4f78-801c-441e-8366-2e88dd188ea8",
   "metadata": {},
   "outputs": [
    {
     "data": {
      "text/plain": [
       "True"
      ]
     },
     "execution_count": 23,
     "metadata": {},
     "output_type": "execute_result"
    }
   ],
   "source": [
    "2>=2"
   ]
  },
  {
   "cell_type": "code",
   "execution_count": 24,
   "id": "9ed5742c-fef7-4f11-84b7-6bb7bcc6e765",
   "metadata": {},
   "outputs": [
    {
     "data": {
      "text/plain": [
       "False"
      ]
     },
     "execution_count": 24,
     "metadata": {},
     "output_type": "execute_result"
    }
   ],
   "source": [
    "2<2"
   ]
  },
  {
   "cell_type": "code",
   "execution_count": 25,
   "id": "f5a5ccd7-4fde-4be5-83d5-9d55c8eb46c7",
   "metadata": {},
   "outputs": [
    {
     "data": {
      "text/plain": [
       "True"
      ]
     },
     "execution_count": 25,
     "metadata": {},
     "output_type": "execute_result"
    }
   ],
   "source": [
    "2<=2"
   ]
  },
  {
   "cell_type": "code",
   "execution_count": 26,
   "id": "e0bcb120-b3a3-43b0-86eb-2a88d7e5d5b9",
   "metadata": {},
   "outputs": [],
   "source": [
    "# Logical operator"
   ]
  },
  {
   "cell_type": "code",
   "execution_count": 27,
   "id": "6558a016-8e62-4c66-9850-6389331d83c2",
   "metadata": {},
   "outputs": [
    {
     "data": {
      "text/plain": [
       "True"
      ]
     },
     "execution_count": 27,
     "metadata": {},
     "output_type": "execute_result"
    }
   ],
   "source": [
    "True and True"
   ]
  },
  {
   "cell_type": "code",
   "execution_count": 28,
   "id": "7e3bb02f-baf2-4be1-aa6c-77e0ca4279b6",
   "metadata": {},
   "outputs": [
    {
     "data": {
      "text/plain": [
       "False"
      ]
     },
     "execution_count": 28,
     "metadata": {},
     "output_type": "execute_result"
    }
   ],
   "source": [
    "True and False"
   ]
  },
  {
   "cell_type": "code",
   "execution_count": 29,
   "id": "bf5b4939-ceb8-402b-9a89-4ffa3bac8ac2",
   "metadata": {},
   "outputs": [
    {
     "data": {
      "text/plain": [
       "False"
      ]
     },
     "execution_count": 29,
     "metadata": {},
     "output_type": "execute_result"
    }
   ],
   "source": [
    "False and True"
   ]
  },
  {
   "cell_type": "code",
   "execution_count": 30,
   "id": "246b9cef-f891-430b-8d18-7f8eadb0cd22",
   "metadata": {},
   "outputs": [
    {
     "data": {
      "text/plain": [
       "False"
      ]
     },
     "execution_count": 30,
     "metadata": {},
     "output_type": "execute_result"
    }
   ],
   "source": [
    "False and False"
   ]
  },
  {
   "cell_type": "code",
   "execution_count": 31,
   "id": "43559bf3-3534-4b39-8b70-0a3eccc21b29",
   "metadata": {},
   "outputs": [
    {
     "data": {
      "text/plain": [
       "0"
      ]
     },
     "execution_count": 31,
     "metadata": {},
     "output_type": "execute_result"
    }
   ],
   "source": [
    "1 and 0"
   ]
  },
  {
   "cell_type": "code",
   "execution_count": 32,
   "id": "f79d0f74-9a97-4621-8483-c871bd9d3241",
   "metadata": {},
   "outputs": [
    {
     "data": {
      "text/plain": [
       "0"
      ]
     },
     "execution_count": 32,
     "metadata": {},
     "output_type": "execute_result"
    }
   ],
   "source": [
    "0 and 1"
   ]
  },
  {
   "cell_type": "code",
   "execution_count": 33,
   "id": "5efc72d6-1062-4e93-b6ef-bc574c613ce2",
   "metadata": {},
   "outputs": [
    {
     "data": {
      "text/plain": [
       "1"
      ]
     },
     "execution_count": 33,
     "metadata": {},
     "output_type": "execute_result"
    }
   ],
   "source": [
    "1 and 1"
   ]
  },
  {
   "cell_type": "code",
   "execution_count": 34,
   "id": "9859ab1f-5d48-4a84-9de0-792d4648b87c",
   "metadata": {},
   "outputs": [
    {
     "data": {
      "text/plain": [
       "0"
      ]
     },
     "execution_count": 34,
     "metadata": {},
     "output_type": "execute_result"
    }
   ],
   "source": [
    "0 and 0"
   ]
  },
  {
   "cell_type": "code",
   "execution_count": 35,
   "id": "7e136dab-abc1-47ca-a642-52938ad1188f",
   "metadata": {},
   "outputs": [
    {
     "data": {
      "text/plain": [
       "False"
      ]
     },
     "execution_count": 35,
     "metadata": {},
     "output_type": "execute_result"
    }
   ],
   "source": [
    "not True"
   ]
  },
  {
   "cell_type": "code",
   "execution_count": 36,
   "id": "8ba0f63e-ddd4-4d48-9fa3-dc8c03b14487",
   "metadata": {},
   "outputs": [
    {
     "data": {
      "text/plain": [
       "False"
      ]
     },
     "execution_count": 36,
     "metadata": {},
     "output_type": "execute_result"
    }
   ],
   "source": [
    "not 1"
   ]
  },
  {
   "cell_type": "code",
   "execution_count": 37,
   "id": "5c667ed3-6ade-4948-b39f-0bd33d686efc",
   "metadata": {},
   "outputs": [
    {
     "data": {
      "text/plain": [
       "1"
      ]
     },
     "execution_count": 37,
     "metadata": {},
     "output_type": "execute_result"
    }
   ],
   "source": [
    "1 or 0"
   ]
  },
  {
   "cell_type": "code",
   "execution_count": 38,
   "id": "e11d1a12-21dc-48bf-8ae3-da7ea0ef2e9c",
   "metadata": {},
   "outputs": [
    {
     "data": {
      "text/plain": [
       "True"
      ]
     },
     "execution_count": 38,
     "metadata": {},
     "output_type": "execute_result"
    }
   ],
   "source": [
    "True or False"
   ]
  },
  {
   "cell_type": "code",
   "execution_count": 39,
   "id": "3f786fd3-9825-4c91-99ad-b43c33ff0874",
   "metadata": {},
   "outputs": [
    {
     "data": {
      "text/plain": [
       "False"
      ]
     },
     "execution_count": 39,
     "metadata": {},
     "output_type": "execute_result"
    }
   ],
   "source": [
    "False or False"
   ]
  },
  {
   "cell_type": "code",
   "execution_count": 40,
   "id": "e1759015-a889-4642-bb84-d8bcb942b5e6",
   "metadata": {},
   "outputs": [],
   "source": [
    "# Bit wise Operator"
   ]
  },
  {
   "cell_type": "code",
   "execution_count": 42,
   "id": "4e53b3c6-a2e9-4187-a737-9f4bccce31be",
   "metadata": {},
   "outputs": [
    {
     "data": {
      "text/plain": [
       "0"
      ]
     },
     "execution_count": 42,
     "metadata": {},
     "output_type": "execute_result"
    }
   ],
   "source": [
    "10 & 4"
   ]
  },
  {
   "cell_type": "code",
   "execution_count": 43,
   "id": "a0fd46ab-49f5-436d-90d5-63025743f5a4",
   "metadata": {},
   "outputs": [
    {
     "data": {
      "text/plain": [
       "'0b1010'"
      ]
     },
     "execution_count": 43,
     "metadata": {},
     "output_type": "execute_result"
    }
   ],
   "source": [
    "bin(10)"
   ]
  },
  {
   "cell_type": "code",
   "execution_count": 44,
   "id": "d356fc13-299f-401e-9784-a67104ca15dc",
   "metadata": {},
   "outputs": [],
   "source": [
    "# binaray of 10 is 1010 and 0b prefix represents binary condition"
   ]
  },
  {
   "cell_type": "code",
   "execution_count": 45,
   "id": "44b80f72-5972-4876-b961-282891b0a0a2",
   "metadata": {},
   "outputs": [
    {
     "data": {
      "text/plain": [
       "'0b100'"
      ]
     },
     "execution_count": 45,
     "metadata": {},
     "output_type": "execute_result"
    }
   ],
   "source": [
    "bin(4)"
   ]
  },
  {
   "cell_type": "code",
   "execution_count": 46,
   "id": "10ac9e33-5e1d-434d-aa68-72f7d30f0e78",
   "metadata": {},
   "outputs": [
    {
     "data": {
      "text/plain": [
       "20"
      ]
     },
     "execution_count": 46,
     "metadata": {},
     "output_type": "execute_result"
    }
   ],
   "source": [
    "23 & 20"
   ]
  },
  {
   "cell_type": "code",
   "execution_count": 47,
   "id": "a69145ee-a009-41ed-8e14-4036555468bd",
   "metadata": {},
   "outputs": [
    {
     "data": {
      "text/plain": [
       "'0b10111'"
      ]
     },
     "execution_count": 47,
     "metadata": {},
     "output_type": "execute_result"
    }
   ],
   "source": [
    "bin(23)"
   ]
  },
  {
   "cell_type": "code",
   "execution_count": 48,
   "id": "f2e547c1-a868-4a40-b2b1-9c24f728bbb9",
   "metadata": {},
   "outputs": [
    {
     "data": {
      "text/plain": [
       "'0b10100'"
      ]
     },
     "execution_count": 48,
     "metadata": {},
     "output_type": "execute_result"
    }
   ],
   "source": [
    "bin(20)"
   ]
  },
  {
   "cell_type": "code",
   "execution_count": 49,
   "id": "ff32eec7-1695-481e-b74c-01957e838e68",
   "metadata": {},
   "outputs": [
    {
     "data": {
      "text/plain": [
       "15"
      ]
     },
     "execution_count": 49,
     "metadata": {},
     "output_type": "execute_result"
    }
   ],
   "source": [
    "11 | 6"
   ]
  },
  {
   "cell_type": "code",
   "execution_count": 50,
   "id": "1c3e519f-cc9c-4a72-8827-548378f85aff",
   "metadata": {},
   "outputs": [
    {
     "data": {
      "text/plain": [
       "'0b1011'"
      ]
     },
     "execution_count": 50,
     "metadata": {},
     "output_type": "execute_result"
    }
   ],
   "source": [
    "bin(11)"
   ]
  },
  {
   "cell_type": "code",
   "execution_count": 51,
   "id": "805bdac8-e941-45dc-b6ce-47b187c51ee0",
   "metadata": {},
   "outputs": [
    {
     "data": {
      "text/plain": [
       "'0b1111'"
      ]
     },
     "execution_count": 51,
     "metadata": {},
     "output_type": "execute_result"
    }
   ],
   "source": [
    "bin(15)"
   ]
  },
  {
   "cell_type": "code",
   "execution_count": 52,
   "id": "af12f268-e67c-4cac-86e1-b5457a7b462f",
   "metadata": {},
   "outputs": [],
   "source": [
    "# | bitwise  OR"
   ]
  },
  {
   "cell_type": "code",
   "execution_count": 53,
   "id": "874081c2-17b3-434b-9fd9-1c8d9b553301",
   "metadata": {},
   "outputs": [
    {
     "data": {
      "text/plain": [
       "-13"
      ]
     },
     "execution_count": 53,
     "metadata": {},
     "output_type": "execute_result"
    }
   ],
   "source": [
    "~12"
   ]
  },
  {
   "cell_type": "code",
   "execution_count": 54,
   "id": "1552e796-0507-4a93-8008-ca7ad6d8f1e3",
   "metadata": {},
   "outputs": [
    {
     "data": {
      "text/plain": [
       "-22"
      ]
     },
     "execution_count": 54,
     "metadata": {},
     "output_type": "execute_result"
    }
   ],
   "source": [
    "~21"
   ]
  },
  {
   "cell_type": "code",
   "execution_count": 55,
   "id": "5bfbbdb8-4e86-4ec5-ad02-2f5e5f6e42b2",
   "metadata": {},
   "outputs": [],
   "source": [
    "# ~ bitwaise not operator"
   ]
  },
  {
   "cell_type": "code",
   "execution_count": 56,
   "id": "68507bf0-0ff3-4029-912b-fcd4c244e221",
   "metadata": {},
   "outputs": [
    {
     "data": {
      "text/plain": [
       "'-0b10101'"
      ]
     },
     "execution_count": 56,
     "metadata": {},
     "output_type": "execute_result"
    }
   ],
   "source": [
    "bin(-21)"
   ]
  },
  {
   "cell_type": "code",
   "execution_count": 57,
   "id": "5a04c9af-38e3-43dd-ade1-51438a018d7e",
   "metadata": {},
   "outputs": [],
   "source": [
    "a=8"
   ]
  },
  {
   "cell_type": "code",
   "execution_count": 58,
   "id": "fdfdca83-80a5-4393-9208-5a55d0c36308",
   "metadata": {},
   "outputs": [
    {
     "data": {
      "text/plain": [
       "2"
      ]
     },
     "execution_count": 58,
     "metadata": {},
     "output_type": "execute_result"
    }
   ],
   "source": [
    "a>>2"
   ]
  },
  {
   "cell_type": "code",
   "execution_count": 59,
   "id": "c1e5e925-5d29-46c9-8a80-eab6c0ce8bf6",
   "metadata": {},
   "outputs": [],
   "source": [
    "# >> right shift operator"
   ]
  },
  {
   "cell_type": "code",
   "execution_count": 60,
   "id": "ee58fa32-ebf7-4615-ab1b-3f4fa16817df",
   "metadata": {},
   "outputs": [
    {
     "data": {
      "text/plain": [
       "0"
      ]
     },
     "execution_count": 60,
     "metadata": {},
     "output_type": "execute_result"
    }
   ],
   "source": [
    "a >> 4"
   ]
  },
  {
   "cell_type": "code",
   "execution_count": 61,
   "id": "6dbeab45-b175-419d-a513-5c37272c8cb7",
   "metadata": {},
   "outputs": [
    {
     "data": {
      "text/plain": [
       "'0b1000'"
      ]
     },
     "execution_count": 61,
     "metadata": {},
     "output_type": "execute_result"
    }
   ],
   "source": [
    "bin(a)"
   ]
  },
  {
   "cell_type": "code",
   "execution_count": 62,
   "id": "388c6867-a2bc-49bf-af9b-3e378aacc653",
   "metadata": {},
   "outputs": [
    {
     "data": {
      "text/plain": [
       "'0b1010'"
      ]
     },
     "execution_count": 62,
     "metadata": {},
     "output_type": "execute_result"
    }
   ],
   "source": [
    "bin(10)"
   ]
  },
  {
   "cell_type": "code",
   "execution_count": 63,
   "id": "eee87c96-82c7-43c9-8ab8-337a863fc1a1",
   "metadata": {},
   "outputs": [],
   "source": [
    "# left shift operator <<"
   ]
  },
  {
   "cell_type": "code",
   "execution_count": 64,
   "id": "a1b45c16-1a1f-4d37-8581-2f95288cf2dd",
   "metadata": {},
   "outputs": [
    {
     "data": {
      "text/plain": [
       "320"
      ]
     },
     "execution_count": 64,
     "metadata": {},
     "output_type": "execute_result"
    }
   ],
   "source": [
    "20 << 4"
   ]
  },
  {
   "cell_type": "code",
   "execution_count": 65,
   "id": "17aa60df-7d0e-4f0e-9aad-e403a417680f",
   "metadata": {},
   "outputs": [
    {
     "data": {
      "text/plain": [
       "'0b10100'"
      ]
     },
     "execution_count": 65,
     "metadata": {},
     "output_type": "execute_result"
    }
   ],
   "source": [
    "bin(20)"
   ]
  },
  {
   "cell_type": "code",
   "execution_count": 66,
   "id": "00a5eb4f-b18b-4600-8043-e8317b0b9916",
   "metadata": {},
   "outputs": [],
   "source": [
    "# Assignment Operator"
   ]
  },
  {
   "cell_type": "code",
   "execution_count": 67,
   "id": "989fe5d3-e8b8-4a5e-aa2c-49be83edd9aa",
   "metadata": {},
   "outputs": [],
   "source": [
    "a =10"
   ]
  },
  {
   "cell_type": "code",
   "execution_count": 68,
   "id": "eb8f8d94-f31a-4c42-9bc9-4a036b5b6773",
   "metadata": {},
   "outputs": [
    {
     "data": {
      "text/plain": [
       "11"
      ]
     },
     "execution_count": 68,
     "metadata": {},
     "output_type": "execute_result"
    }
   ],
   "source": [
    "a+1"
   ]
  },
  {
   "cell_type": "code",
   "execution_count": 69,
   "id": "ea34d630-4e97-4351-b73e-7ae7698d4736",
   "metadata": {},
   "outputs": [],
   "source": [
    "a = a+1"
   ]
  },
  {
   "cell_type": "code",
   "execution_count": 70,
   "id": "363342ec-f540-4999-a08a-cfc2b4caf49a",
   "metadata": {},
   "outputs": [],
   "source": [
    "b = 10"
   ]
  },
  {
   "cell_type": "code",
   "execution_count": 71,
   "id": "09ee3af7-d6c0-4eb9-b637-1a42e718fcc5",
   "metadata": {},
   "outputs": [],
   "source": [
    "b = b+1"
   ]
  },
  {
   "cell_type": "code",
   "execution_count": 72,
   "id": "4a682a40-9443-40ea-8a62-bc526ee685bb",
   "metadata": {},
   "outputs": [
    {
     "data": {
      "text/plain": [
       "11"
      ]
     },
     "execution_count": 72,
     "metadata": {},
     "output_type": "execute_result"
    }
   ],
   "source": [
    "b"
   ]
  },
  {
   "cell_type": "code",
   "execution_count": 73,
   "id": "172f0866-b0c7-4222-b9cf-b99bd117158a",
   "metadata": {},
   "outputs": [
    {
     "data": {
      "text/plain": [
       "11"
      ]
     },
     "execution_count": 73,
     "metadata": {},
     "output_type": "execute_result"
    }
   ],
   "source": [
    "a"
   ]
  },
  {
   "cell_type": "code",
   "execution_count": 74,
   "id": "b19bac82-518c-4536-8dbb-ce56f8fd6b1a",
   "metadata": {},
   "outputs": [
    {
     "data": {
      "text/plain": [
       "12"
      ]
     },
     "execution_count": 74,
     "metadata": {},
     "output_type": "execute_result"
    }
   ],
   "source": [
    "b ++1"
   ]
  },
  {
   "cell_type": "code",
   "execution_count": 75,
   "id": "30f2f172-2e21-46f1-9d3b-b1d8b727700e",
   "metadata": {},
   "outputs": [],
   "source": [
    "c = 20"
   ]
  },
  {
   "cell_type": "code",
   "execution_count": 76,
   "id": "f76531ee-2532-496d-8d48-7305feba1c77",
   "metadata": {},
   "outputs": [],
   "source": [
    "c = c-1"
   ]
  },
  {
   "cell_type": "code",
   "execution_count": 77,
   "id": "44e7fc3f-4ed6-45aa-b950-fa858c9b20e4",
   "metadata": {},
   "outputs": [
    {
     "data": {
      "text/plain": [
       "19"
      ]
     },
     "execution_count": 77,
     "metadata": {},
     "output_type": "execute_result"
    }
   ],
   "source": [
    "c"
   ]
  },
  {
   "cell_type": "code",
   "execution_count": 79,
   "id": "0aec367a-072c-4f98-a7ea-b3f75acdd61d",
   "metadata": {},
   "outputs": [],
   "source": [
    "c-=1"
   ]
  },
  {
   "cell_type": "code",
   "execution_count": 81,
   "id": "9a219895-dbb1-4012-be68-e29f7a0f719f",
   "metadata": {},
   "outputs": [
    {
     "data": {
      "text/plain": [
       "18"
      ]
     },
     "execution_count": 81,
     "metadata": {},
     "output_type": "execute_result"
    }
   ],
   "source": [
    "c"
   ]
  },
  {
   "cell_type": "code",
   "execution_count": null,
   "id": "a5a23c97-9869-4401-977e-5b61905ab8d1",
   "metadata": {},
   "outputs": [],
   "source": []
  }
 ],
 "metadata": {
  "kernelspec": {
   "display_name": "Python 3 (ipykernel)",
   "language": "python",
   "name": "python3"
  },
  "language_info": {
   "codemirror_mode": {
    "name": "ipython",
    "version": 3
   },
   "file_extension": ".py",
   "mimetype": "text/x-python",
   "name": "python",
   "nbconvert_exporter": "python",
   "pygments_lexer": "ipython3",
   "version": "3.10.8"
  }
 },
 "nbformat": 4,
 "nbformat_minor": 5
}
