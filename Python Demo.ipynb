{
 "cells": [
  {
   "cell_type": "code",
   "execution_count": 85,
   "id": "8549c713-eea0-4e72-a64c-5f8fea407fd4",
   "metadata": {},
   "outputs": [],
   "source": [
    "#Python Demo"
   ]
  },
  {
   "cell_type": "code",
   "execution_count": 86,
   "id": "45ea421c-5c7a-4212-b5af-9d069106bfe2",
   "metadata": {},
   "outputs": [
    {
     "data": {
      "text/plain": [
       "-1"
      ]
     },
     "execution_count": 86,
     "metadata": {},
     "output_type": "execute_result"
    }
   ],
   "source": [
    "2-3"
   ]
  },
  {
   "cell_type": "code",
   "execution_count": 87,
   "id": "aa1bf3f1-4d6e-470f-91f8-9eedc9dae90b",
   "metadata": {},
   "outputs": [
    {
     "data": {
      "text/plain": [
       "6"
      ]
     },
     "execution_count": 87,
     "metadata": {},
     "output_type": "execute_result"
    }
   ],
   "source": [
    "2*3"
   ]
  },
  {
   "cell_type": "code",
   "execution_count": 88,
   "id": "2ecfd181-d554-4e45-a22d-815a1545c3bf",
   "metadata": {},
   "outputs": [
    {
     "data": {
      "text/plain": [
       "1.6666666666666667"
      ]
     },
     "execution_count": 88,
     "metadata": {},
     "output_type": "execute_result"
    }
   ],
   "source": [
    "10/6"
   ]
  },
  {
   "cell_type": "code",
   "execution_count": 89,
   "id": "4ff5bed4-e633-42db-a89a-5dcb2c6913e0",
   "metadata": {},
   "outputs": [],
   "source": [
    "#python Variable"
   ]
  },
  {
   "cell_type": "code",
   "execution_count": 90,
   "id": "466ff888-d70f-4364-9e13-95a466141960",
   "metadata": {},
   "outputs": [],
   "source": [
    "a=1"
   ]
  },
  {
   "cell_type": "code",
   "execution_count": 91,
   "id": "074996f8-0954-482f-8d35-b00023303af7",
   "metadata": {},
   "outputs": [
    {
     "data": {
      "text/plain": [
       "int"
      ]
     },
     "execution_count": 91,
     "metadata": {},
     "output_type": "execute_result"
    }
   ],
   "source": [
    "type(a)"
   ]
  },
  {
   "cell_type": "code",
   "execution_count": 92,
   "id": "7436d448-66b3-4d96-8272-fb377f04dd49",
   "metadata": {},
   "outputs": [],
   "source": [
    "b=\"Msk\""
   ]
  },
  {
   "cell_type": "code",
   "execution_count": 93,
   "id": "c6dbe914-097a-494e-96c4-42f46861d55d",
   "metadata": {},
   "outputs": [
    {
     "data": {
      "text/plain": [
       "str"
      ]
     },
     "execution_count": 93,
     "metadata": {},
     "output_type": "execute_result"
    }
   ],
   "source": [
    "type(b)"
   ]
  },
  {
   "cell_type": "code",
   "execution_count": 94,
   "id": "5694c371-7975-4f6d-8641-24ac5ba21856",
   "metadata": {},
   "outputs": [],
   "source": [
    "c='Msk'"
   ]
  },
  {
   "cell_type": "code",
   "execution_count": 95,
   "id": "290f3766-7629-4eb4-b8ca-952ef19600ba",
   "metadata": {},
   "outputs": [
    {
     "data": {
      "text/plain": [
       "str"
      ]
     },
     "execution_count": 95,
     "metadata": {},
     "output_type": "execute_result"
    }
   ],
   "source": [
    "type(c)"
   ]
  },
  {
   "cell_type": "code",
   "execution_count": 96,
   "id": "4cb08325-f6f9-4f29-bfc6-afa0add81fb2",
   "metadata": {},
   "outputs": [],
   "source": [
    "f=0.453"
   ]
  },
  {
   "cell_type": "code",
   "execution_count": 97,
   "id": "b265a4fd-9c44-4fe7-8f47-a0b32998ead9",
   "metadata": {},
   "outputs": [
    {
     "data": {
      "text/plain": [
       "float"
      ]
     },
     "execution_count": 97,
     "metadata": {},
     "output_type": "execute_result"
    }
   ],
   "source": [
    "type(f)"
   ]
  },
  {
   "cell_type": "code",
   "execution_count": 98,
   "id": "39a1d252-087d-476a-99d1-2345cbf32fbf",
   "metadata": {},
   "outputs": [],
   "source": [
    "d=True"
   ]
  },
  {
   "cell_type": "code",
   "execution_count": 99,
   "id": "737c456e-2ce7-4aaa-877a-5e8af1c5d015",
   "metadata": {},
   "outputs": [
    {
     "data": {
      "text/plain": [
       "bool"
      ]
     },
     "execution_count": 99,
     "metadata": {},
     "output_type": "execute_result"
    }
   ],
   "source": [
    "type(d)"
   ]
  },
  {
   "cell_type": "code",
   "execution_count": 100,
   "id": "f16895ef-82ad-4f22-958f-33f5f55bba0d",
   "metadata": {},
   "outputs": [],
   "source": [
    "e=False"
   ]
  },
  {
   "cell_type": "code",
   "execution_count": 101,
   "id": "003ccef2-033e-46a2-8729-357bf9666259",
   "metadata": {},
   "outputs": [
    {
     "data": {
      "text/plain": [
       "bool"
      ]
     },
     "execution_count": 101,
     "metadata": {},
     "output_type": "execute_result"
    }
   ],
   "source": [
    "type(e)"
   ]
  },
  {
   "cell_type": "code",
   "execution_count": 102,
   "id": "6f315098-d748-4e06-b027-f556be1b25bf",
   "metadata": {},
   "outputs": [
    {
     "data": {
      "text/plain": [
       "1"
      ]
     },
     "execution_count": 102,
     "metadata": {},
     "output_type": "execute_result"
    }
   ],
   "source": [
    "True-False"
   ]
  },
  {
   "cell_type": "code",
   "execution_count": 103,
   "id": "aa9c0c23-5efa-4b5e-8133-114f8893773f",
   "metadata": {},
   "outputs": [
    {
     "data": {
      "text/plain": [
       "-1"
      ]
     },
     "execution_count": 103,
     "metadata": {},
     "output_type": "execute_result"
    }
   ],
   "source": [
    "False-True"
   ]
  },
  {
   "cell_type": "code",
   "execution_count": 104,
   "id": "d1b17e00-53a8-4614-8693-0174a65502d9",
   "metadata": {},
   "outputs": [],
   "source": [
    "Note=\"True = 1, False = 0 \""
   ]
  },
  {
   "cell_type": "code",
   "execution_count": 105,
   "id": "d03d9958-61fb-477f-92fb-bc1118e7c083",
   "metadata": {},
   "outputs": [
    {
     "data": {
      "text/plain": [
       "0"
      ]
     },
     "execution_count": 105,
     "metadata": {},
     "output_type": "execute_result"
    }
   ],
   "source": [
    "True*False"
   ]
  },
  {
   "cell_type": "code",
   "execution_count": 106,
   "id": "db048859-988f-4671-99b1-5517e407697c",
   "metadata": {},
   "outputs": [],
   "source": [
    "#True/False does not Accept because false=0 so division by zero value error"
   ]
  },
  {
   "cell_type": "code",
   "execution_count": 107,
   "id": "cbe91a19-110c-4c97-bec4-da867b873ce2",
   "metadata": {},
   "outputs": [],
   "source": [
    "Note0=\" Division by zero=Infinite Value\""
   ]
  },
  {
   "cell_type": "code",
   "execution_count": 108,
   "id": "2b04eca4-931e-414c-92d8-2cd7642e738c",
   "metadata": {},
   "outputs": [],
   "source": [
    "ComplexNum = 5+4j"
   ]
  },
  {
   "cell_type": "code",
   "execution_count": 109,
   "id": "0f4435cc-73f7-4ce2-9b78-e97fac99a346",
   "metadata": {},
   "outputs": [
    {
     "data": {
      "text/plain": [
       "complex"
      ]
     },
     "execution_count": 109,
     "metadata": {},
     "output_type": "execute_result"
    }
   ],
   "source": [
    "type(ComplexNum)"
   ]
  },
  {
   "cell_type": "code",
   "execution_count": 110,
   "id": "72892a9d-eca7-47e3-a706-283d1acd024e",
   "metadata": {},
   "outputs": [],
   "source": [
    "str0=\"i= 6+7i / Variable does not accept i for complex term, uses j \""
   ]
  },
  {
   "cell_type": "code",
   "execution_count": 111,
   "id": "ad93821a-802d-4df8-9f35-c198a19d1db7",
   "metadata": {},
   "outputs": [],
   "source": [
    "Note1=\"Comlex Number only supports j not i\""
   ]
  },
  {
   "cell_type": "code",
   "execution_count": 112,
   "id": "e8a17069-39cd-456f-ad99-dc8e4603ac75",
   "metadata": {},
   "outputs": [],
   "source": [
    "g=7j"
   ]
  },
  {
   "cell_type": "code",
   "execution_count": 113,
   "id": "ad13f9e6-51ae-4edf-8d5d-3035c4437850",
   "metadata": {},
   "outputs": [
    {
     "data": {
      "text/plain": [
       "complex"
      ]
     },
     "execution_count": 113,
     "metadata": {},
     "output_type": "execute_result"
    }
   ],
   "source": [
    "type(g)"
   ]
  },
  {
   "cell_type": "code",
   "execution_count": 114,
   "id": "2f4ba0aa-cead-481f-9098-d42886b1398d",
   "metadata": {},
   "outputs": [],
   "source": [
    "#Error Conditions"
   ]
  },
  {
   "cell_type": "code",
   "execution_count": 115,
   "id": "ce720958-0cb1-45fa-921a-81396daf0e49",
   "metadata": {},
   "outputs": [],
   "source": [
    "Str=\"345=5 / Variable does not accept Numeric Values___\""
   ]
  },
  {
   "cell_type": "code",
   "execution_count": 116,
   "id": "c64e379d-cb00-477a-939c-3a33988f6086",
   "metadata": {},
   "outputs": [],
   "source": [
    "Str2=\"45jh=7 / Variable does not accept Alpha_Numeric values\""
   ]
  },
  {
   "cell_type": "code",
   "execution_count": 117,
   "id": "453712d4-3563-4cdc-a283-6c59188cd9ff",
   "metadata": {},
   "outputs": [],
   "source": [
    "# $j=2 // shows Error because Variable does not allow special character"
   ]
  },
  {
   "cell_type": "code",
   "execution_count": 118,
   "id": "7ff70263-3c81-4fc6-a359-1acaa53f7bd2",
   "metadata": {},
   "outputs": [],
   "source": [
    "_a= 4+3"
   ]
  },
  {
   "cell_type": "code",
   "execution_count": 119,
   "id": "4d3a2da5-0971-4095-921c-131cc5b70f8d",
   "metadata": {},
   "outputs": [
    {
     "data": {
      "text/plain": [
       "int"
      ]
     },
     "execution_count": 119,
     "metadata": {},
     "output_type": "execute_result"
    }
   ],
   "source": [
    "type(_a)"
   ]
  },
  {
   "cell_type": "code",
   "execution_count": 120,
   "id": "91536d1e-7e6e-4a17-ae22-6776de48e9c3",
   "metadata": {},
   "outputs": [],
   "source": [
    "# _a (Underscore accepted as Variable)"
   ]
  },
  {
   "cell_type": "code",
   "execution_count": 121,
   "id": "cef2bb21-3af0-486d-a80d-de821987b933",
   "metadata": {},
   "outputs": [
    {
     "data": {
      "text/plain": [
       "0"
      ]
     },
     "execution_count": 121,
     "metadata": {},
     "output_type": "execute_result"
    }
   ],
   "source": [
    "e.real"
   ]
  },
  {
   "cell_type": "code",
   "execution_count": 122,
   "id": "59eccd4d-649c-458f-945f-bd6dc42ae78a",
   "metadata": {},
   "outputs": [
    {
     "data": {
      "text/plain": [
       "0"
      ]
     },
     "execution_count": 122,
     "metadata": {},
     "output_type": "execute_result"
    }
   ],
   "source": [
    "e.imag"
   ]
  },
  {
   "cell_type": "code",
   "execution_count": 123,
   "id": "f3035aaf-634b-42fe-bd5a-848c1d71bd0d",
   "metadata": {},
   "outputs": [],
   "source": [
    "m = 6+7j"
   ]
  },
  {
   "cell_type": "code",
   "execution_count": 124,
   "id": "4d1e0242-ba27-4686-bf58-dc729fcb7c74",
   "metadata": {},
   "outputs": [
    {
     "data": {
      "text/plain": [
       "6.0"
      ]
     },
     "execution_count": 124,
     "metadata": {},
     "output_type": "execute_result"
    }
   ],
   "source": [
    "m.real"
   ]
  },
  {
   "cell_type": "code",
   "execution_count": 125,
   "id": "574542c0-f989-4816-b58d-5c20a74b8bfa",
   "metadata": {},
   "outputs": [
    {
     "data": {
      "text/plain": [
       "7.0"
      ]
     },
     "execution_count": 125,
     "metadata": {},
     "output_type": "execute_result"
    }
   ],
   "source": [
    "m.imag"
   ]
  },
  {
   "cell_type": "code",
   "execution_count": 126,
   "id": "7e25f8d7-2b59-4e9d-b8ff-541852bc3ea4",
   "metadata": {},
   "outputs": [],
   "source": [
    "# .imag & .real used to extract real no. & imaginary No. from Complex No."
   ]
  },
  {
   "cell_type": "code",
   "execution_count": 127,
   "id": "638e57f6-7d69-41ce-a054-03a111dcbb5b",
   "metadata": {},
   "outputs": [],
   "source": [
    "#------------"
   ]
  },
  {
   "cell_type": "code",
   "execution_count": 128,
   "id": "1d31e540-d174-47d6-a2f9-dd8fea135c2e",
   "metadata": {},
   "outputs": [],
   "source": [
    "#------------"
   ]
  },
  {
   "cell_type": "code",
   "execution_count": 129,
   "id": "f209c03c-d1b7-46ec-8418-d2c846240e0d",
   "metadata": {},
   "outputs": [],
   "source": [
    "# Mutable & Imutable Data types "
   ]
  },
  {
   "cell_type": "code",
   "execution_count": 130,
   "id": "e0906f2c-8d80-4e2e-be8d-d754fc7cf03c",
   "metadata": {},
   "outputs": [],
   "source": [
    "# LIST // list is a collection of All Data Types "
   ]
  },
  {
   "cell_type": "code",
   "execution_count": 131,
   "id": "f9fe5d4b-aee4-460e-8e87-169cb4bef34f",
   "metadata": {},
   "outputs": [],
   "source": [
    "l = [1,2,3,34,\"Msk\", True]"
   ]
  },
  {
   "cell_type": "code",
   "execution_count": 132,
   "id": "a15c82f1-9a76-40c5-a0fd-e9417af93f3c",
   "metadata": {},
   "outputs": [
    {
     "data": {
      "text/plain": [
       "list"
      ]
     },
     "execution_count": 132,
     "metadata": {},
     "output_type": "execute_result"
    }
   ],
   "source": [
    "type(l)"
   ]
  },
  {
   "cell_type": "code",
   "execution_count": 133,
   "id": "12917803-66f4-450c-a157-ccdf2b4882d5",
   "metadata": {},
   "outputs": [
    {
     "data": {
      "text/plain": [
       "1"
      ]
     },
     "execution_count": 133,
     "metadata": {},
     "output_type": "execute_result"
    }
   ],
   "source": [
    "l[0]"
   ]
  },
  {
   "cell_type": "code",
   "execution_count": 134,
   "id": "1b29b070-58f8-47c0-8589-50a23c68292a",
   "metadata": {},
   "outputs": [
    {
     "data": {
      "text/plain": [
       "2"
      ]
     },
     "execution_count": 134,
     "metadata": {},
     "output_type": "execute_result"
    }
   ],
   "source": [
    "l[1]"
   ]
  },
  {
   "cell_type": "code",
   "execution_count": 135,
   "id": "ebfc8fc5-b4bf-428d-aae4-367c40f91b66",
   "metadata": {},
   "outputs": [
    {
     "data": {
      "text/plain": [
       "3"
      ]
     },
     "execution_count": 135,
     "metadata": {},
     "output_type": "execute_result"
    }
   ],
   "source": [
    "l[2]"
   ]
  },
  {
   "cell_type": "code",
   "execution_count": 136,
   "id": "2f9b29a9-a8f9-402a-a825-885f2f6c81fa",
   "metadata": {},
   "outputs": [
    {
     "data": {
      "text/plain": [
       "34"
      ]
     },
     "execution_count": 136,
     "metadata": {},
     "output_type": "execute_result"
    }
   ],
   "source": [
    "l[3]"
   ]
  },
  {
   "cell_type": "code",
   "execution_count": 137,
   "id": "e1f325bc-4931-417f-a361-05a111574446",
   "metadata": {},
   "outputs": [
    {
     "data": {
      "text/plain": [
       "'Msk'"
      ]
     },
     "execution_count": 137,
     "metadata": {},
     "output_type": "execute_result"
    }
   ],
   "source": [
    "l[4]"
   ]
  },
  {
   "cell_type": "code",
   "execution_count": 138,
   "id": "74778de9-5135-4a5d-9441-8512c9d22e65",
   "metadata": {},
   "outputs": [
    {
     "data": {
      "text/plain": [
       "True"
      ]
     },
     "execution_count": 138,
     "metadata": {},
     "output_type": "execute_result"
    }
   ],
   "source": [
    "l[5]"
   ]
  },
  {
   "cell_type": "code",
   "execution_count": 139,
   "id": "767d1a30-4211-4fb3-acb8-6647ee8efcc3",
   "metadata": {},
   "outputs": [
    {
     "data": {
      "text/plain": [
       "True"
      ]
     },
     "execution_count": 139,
     "metadata": {},
     "output_type": "execute_result"
    }
   ],
   "source": [
    "l[-1]"
   ]
  },
  {
   "cell_type": "code",
   "execution_count": 140,
   "id": "337dc34b-86c2-45d7-b9a0-5ed4f6a73f2a",
   "metadata": {},
   "outputs": [
    {
     "data": {
      "text/plain": [
       "'Msk'"
      ]
     },
     "execution_count": 140,
     "metadata": {},
     "output_type": "execute_result"
    }
   ],
   "source": [
    "l[-2]"
   ]
  },
  {
   "cell_type": "code",
   "execution_count": 141,
   "id": "607dc396-f50c-49e0-bf57-a8b6f71e0fba",
   "metadata": {},
   "outputs": [
    {
     "data": {
      "text/plain": [
       "34"
      ]
     },
     "execution_count": 141,
     "metadata": {},
     "output_type": "execute_result"
    }
   ],
   "source": [
    "l[-3]"
   ]
  },
  {
   "cell_type": "code",
   "execution_count": 142,
   "id": "0515b797-f948-4859-81f1-9cddc2258217",
   "metadata": {},
   "outputs": [
    {
     "data": {
      "text/plain": [
       "3"
      ]
     },
     "execution_count": 142,
     "metadata": {},
     "output_type": "execute_result"
    }
   ],
   "source": [
    "l[-4]"
   ]
  },
  {
   "cell_type": "code",
   "execution_count": 143,
   "id": "937b160d-337d-409b-a28d-376627270c6e",
   "metadata": {},
   "outputs": [
    {
     "data": {
      "text/plain": [
       "2"
      ]
     },
     "execution_count": 143,
     "metadata": {},
     "output_type": "execute_result"
    }
   ],
   "source": [
    "l[-5]"
   ]
  },
  {
   "cell_type": "code",
   "execution_count": 144,
   "id": "f6c74603-56c0-4409-8bdb-1e47263960d8",
   "metadata": {},
   "outputs": [
    {
     "data": {
      "text/plain": [
       "1"
      ]
     },
     "execution_count": 144,
     "metadata": {},
     "output_type": "execute_result"
    }
   ],
   "source": [
    "l[-6]"
   ]
  },
  {
   "cell_type": "code",
   "execution_count": 145,
   "id": "7f92fff5-8932-4dff-9251-2a11e8de7881",
   "metadata": {},
   "outputs": [],
   "source": [
    "# How to Replace data from List"
   ]
  },
  {
   "cell_type": "code",
   "execution_count": 146,
   "id": "686dc504-f1fb-4f27-8693-8d618c4935b0",
   "metadata": {},
   "outputs": [],
   "source": [
    "l[2]=100"
   ]
  },
  {
   "cell_type": "code",
   "execution_count": 147,
   "id": "48e8cda6-7665-4b54-9e55-82ef82131175",
   "metadata": {},
   "outputs": [
    {
     "data": {
      "text/plain": [
       "100"
      ]
     },
     "execution_count": 147,
     "metadata": {},
     "output_type": "execute_result"
    }
   ],
   "source": [
    "l[2]"
   ]
  },
  {
   "cell_type": "code",
   "execution_count": 148,
   "id": "0285cab0-0545-4e79-9d3b-8877a39422f7",
   "metadata": {},
   "outputs": [],
   "source": [
    "# l[2] was 3 , replaced by 100 in list"
   ]
  },
  {
   "cell_type": "code",
   "execution_count": 149,
   "id": "3c6aabdd-2378-4f7c-ac3b-e3f8bc67efae",
   "metadata": {},
   "outputs": [],
   "source": [
    "l[-6] = \"Ms\""
   ]
  },
  {
   "cell_type": "code",
   "execution_count": 150,
   "id": "e4170c67-13ee-4a9a-abcc-a1519800d15c",
   "metadata": {},
   "outputs": [
    {
     "data": {
      "text/plain": [
       "'Ms'"
      ]
     },
     "execution_count": 150,
     "metadata": {},
     "output_type": "execute_result"
    }
   ],
   "source": [
    "l[-6]"
   ]
  },
  {
   "cell_type": "code",
   "execution_count": 151,
   "id": "4c5aa086-470c-452f-a74f-2eb381b3eaa8",
   "metadata": {},
   "outputs": [],
   "source": [
    "# NOTE- String does not allow Mutability only list Allows"
   ]
  },
  {
   "cell_type": "code",
   "execution_count": null,
   "id": "df6b0b00-96a8-4e53-8902-bc653a43fc55",
   "metadata": {},
   "outputs": [],
   "source": []
  }
 ],
 "metadata": {
  "kernelspec": {
   "display_name": "Python 3 (ipykernel)",
   "language": "python",
   "name": "python3"
  },
  "language_info": {
   "codemirror_mode": {
    "name": "ipython",
    "version": 3
   },
   "file_extension": ".py",
   "mimetype": "text/x-python",
   "name": "python",
   "nbconvert_exporter": "python",
   "pygments_lexer": "ipython3",
   "version": "3.10.8"
  }
 },
 "nbformat": 4,
 "nbformat_minor": 5
}
